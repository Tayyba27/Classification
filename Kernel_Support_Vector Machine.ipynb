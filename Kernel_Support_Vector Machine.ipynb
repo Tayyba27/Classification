{
 "cells": [
  {
   "attachments": {},
   "cell_type": "markdown",
   "metadata": {},
   "source": [
    "# Kernel Vector Support Machine \n"
   ]
  },
  {
   "cell_type": "code",
   "execution_count": 1,
   "metadata": {},
   "outputs": [],
   "source": [
    "import numpy as np \n",
    "import pandas as pd\n",
    "import matplotlib.pyplot as plt"
   ]
  },
  {
   "cell_type": "code",
   "execution_count": 2,
   "metadata": {},
   "outputs": [
    {
     "data": {
      "text/html": [
       "<div>\n",
       "<style scoped>\n",
       "    .dataframe tbody tr th:only-of-type {\n",
       "        vertical-align: middle;\n",
       "    }\n",
       "\n",
       "    .dataframe tbody tr th {\n",
       "        vertical-align: top;\n",
       "    }\n",
       "\n",
       "    .dataframe thead th {\n",
       "        text-align: right;\n",
       "    }\n",
       "</style>\n",
       "<table border=\"1\" class=\"dataframe\">\n",
       "  <thead>\n",
       "    <tr style=\"text-align: right;\">\n",
       "      <th></th>\n",
       "      <th>Age</th>\n",
       "      <th>EstimatedSalary</th>\n",
       "      <th>Purchased</th>\n",
       "    </tr>\n",
       "  </thead>\n",
       "  <tbody>\n",
       "    <tr>\n",
       "      <th>0</th>\n",
       "      <td>19</td>\n",
       "      <td>19000</td>\n",
       "      <td>0</td>\n",
       "    </tr>\n",
       "    <tr>\n",
       "      <th>1</th>\n",
       "      <td>35</td>\n",
       "      <td>20000</td>\n",
       "      <td>0</td>\n",
       "    </tr>\n",
       "    <tr>\n",
       "      <th>2</th>\n",
       "      <td>26</td>\n",
       "      <td>43000</td>\n",
       "      <td>0</td>\n",
       "    </tr>\n",
       "    <tr>\n",
       "      <th>3</th>\n",
       "      <td>27</td>\n",
       "      <td>57000</td>\n",
       "      <td>0</td>\n",
       "    </tr>\n",
       "    <tr>\n",
       "      <th>4</th>\n",
       "      <td>19</td>\n",
       "      <td>76000</td>\n",
       "      <td>0</td>\n",
       "    </tr>\n",
       "    <tr>\n",
       "      <th>...</th>\n",
       "      <td>...</td>\n",
       "      <td>...</td>\n",
       "      <td>...</td>\n",
       "    </tr>\n",
       "    <tr>\n",
       "      <th>395</th>\n",
       "      <td>46</td>\n",
       "      <td>41000</td>\n",
       "      <td>1</td>\n",
       "    </tr>\n",
       "    <tr>\n",
       "      <th>396</th>\n",
       "      <td>51</td>\n",
       "      <td>23000</td>\n",
       "      <td>1</td>\n",
       "    </tr>\n",
       "    <tr>\n",
       "      <th>397</th>\n",
       "      <td>50</td>\n",
       "      <td>20000</td>\n",
       "      <td>1</td>\n",
       "    </tr>\n",
       "    <tr>\n",
       "      <th>398</th>\n",
       "      <td>36</td>\n",
       "      <td>33000</td>\n",
       "      <td>0</td>\n",
       "    </tr>\n",
       "    <tr>\n",
       "      <th>399</th>\n",
       "      <td>49</td>\n",
       "      <td>36000</td>\n",
       "      <td>1</td>\n",
       "    </tr>\n",
       "  </tbody>\n",
       "</table>\n",
       "<p>400 rows × 3 columns</p>\n",
       "</div>"
      ],
      "text/plain": [
       "     Age  EstimatedSalary  Purchased\n",
       "0     19            19000          0\n",
       "1     35            20000          0\n",
       "2     26            43000          0\n",
       "3     27            57000          0\n",
       "4     19            76000          0\n",
       "..   ...              ...        ...\n",
       "395   46            41000          1\n",
       "396   51            23000          1\n",
       "397   50            20000          1\n",
       "398   36            33000          0\n",
       "399   49            36000          1\n",
       "\n",
       "[400 rows x 3 columns]"
      ]
     },
     "execution_count": 2,
     "metadata": {},
     "output_type": "execute_result"
    }
   ],
   "source": [
    "dataset = pd.read_csv(\"Social_Network_Ads.csv\")\n",
    "dataset"
   ]
  },
  {
   "cell_type": "code",
   "execution_count": 3,
   "metadata": {},
   "outputs": [],
   "source": [
    "X = dataset.iloc[: , :-1].values\n",
    "y = dataset.iloc[:,-1].values"
   ]
  },
  {
   "cell_type": "code",
   "execution_count": 4,
   "metadata": {},
   "outputs": [
    {
     "data": {
      "text/plain": [
       "(400, 2)"
      ]
     },
     "execution_count": 4,
     "metadata": {},
     "output_type": "execute_result"
    }
   ],
   "source": [
    "X.shape"
   ]
  },
  {
   "cell_type": "code",
   "execution_count": 5,
   "metadata": {},
   "outputs": [
    {
     "data": {
      "text/plain": [
       "(400,)"
      ]
     },
     "execution_count": 5,
     "metadata": {},
     "output_type": "execute_result"
    }
   ],
   "source": [
    "y.shape"
   ]
  },
  {
   "cell_type": "code",
   "execution_count": 6,
   "metadata": {},
   "outputs": [],
   "source": [
    "from sklearn.model_selection import  train_test_split\n",
    "X_train , X_test , y_train , y_test = train_test_split(X , y , test_size=0.2 , random_state=0)"
   ]
  },
  {
   "cell_type": "code",
   "execution_count": 7,
   "metadata": {},
   "outputs": [
    {
     "data": {
      "text/plain": [
       "(320, 2)"
      ]
     },
     "execution_count": 7,
     "metadata": {},
     "output_type": "execute_result"
    }
   ],
   "source": [
    "X_train.shape"
   ]
  },
  {
   "cell_type": "code",
   "execution_count": 8,
   "metadata": {},
   "outputs": [
    {
     "data": {
      "text/plain": [
       "(320,)"
      ]
     },
     "execution_count": 8,
     "metadata": {},
     "output_type": "execute_result"
    }
   ],
   "source": [
    "y_train.shape"
   ]
  },
  {
   "cell_type": "code",
   "execution_count": 12,
   "metadata": {},
   "outputs": [],
   "source": [
    "from sklearn.preprocessing import StandardScaler\n",
    "sc = StandardScaler()\n",
    "X_train = sc.fit_transform(X_train)\n",
    "X_test = sc.transform(X_test)\n"
   ]
  },
  {
   "cell_type": "code",
   "execution_count": 14,
   "metadata": {},
   "outputs": [
    {
     "data": {
      "text/plain": [
       "array([[ 1.92295008e+00,  2.14601566e+00],\n",
       "       [ 2.02016082e+00,  3.78719297e-01],\n",
       "       [-1.38221530e+00, -4.32498705e-01],\n",
       "       [-1.18779381e+00, -1.01194013e+00],\n",
       "       [ 1.92295008e+00, -9.25023920e-01],\n",
       "       [ 3.67578135e-01,  2.91803083e-01],\n",
       "       [ 1.73156642e-01,  1.46942725e-01],\n",
       "       [ 2.02016082e+00,  1.74040666e+00],\n",
       "       [ 7.56421121e-01, -8.38107706e-01],\n",
       "       [ 2.70367388e-01, -2.87638347e-01],\n",
       "       [ 3.67578135e-01, -1.71750061e-01],\n",
       "       [-1.18475597e-01,  2.20395980e+00],\n",
       "       [-1.47942605e+00, -6.35303205e-01],\n",
       "       [-1.28500455e+00, -1.06988428e+00],\n",
       "       [-1.38221530e+00,  4.07691369e-01],\n",
       "       [-1.09058306e+00,  7.55356227e-01],\n",
       "       [-1.47942605e+00, -2.00722133e-01],\n",
       "       [ 9.50842613e-01, -1.06988428e+00],\n",
       "       [ 9.50842613e-01,  5.81523798e-01],\n",
       "       [ 3.67578135e-01,  9.87132798e-01],\n",
       "       [ 5.61999628e-01, -8.96051849e-01],\n",
       "       [-6.04529329e-01,  1.45068594e+00],\n",
       "       [-2.12648508e-02, -5.77359062e-01],\n",
       "       [-6.04529329e-01,  1.88526701e+00],\n",
       "       [ 1.33968560e+00, -1.41754914e+00],\n",
       "       [ 1.43689635e+00,  9.87132798e-01],\n",
       "       [ 7.59458956e-02, -8.09135634e-01],\n",
       "       [-2.12648508e-02, -2.58666276e-01],\n",
       "       [-2.15686344e-01, -5.77359062e-01],\n",
       "       [-2.15686344e-01, -2.00722133e-01],\n",
       "       [-3.12897090e-01, -1.30166085e+00],\n",
       "       [-3.12897090e-01, -5.77359062e-01],\n",
       "       [ 3.67578135e-01,  8.89985821e-02],\n",
       "       [ 8.53631867e-01, -6.06331134e-01],\n",
       "       [ 2.02016082e+00, -1.18577256e+00],\n",
       "       [ 1.04805336e+00, -1.42777990e-01],\n",
       "       [ 6.59210374e-01,  1.76937873e+00],\n",
       "       [-7.01740076e-01,  5.52551726e-01],\n",
       "       [ 7.56421121e-01,  3.49747226e-01],\n",
       "       [ 8.53631867e-01, -5.48386991e-01],\n",
       "       [-1.18779381e+00, -1.59138156e+00],\n",
       "       [ 2.11737157e+00,  9.29188655e-01],\n",
       "       [-2.12648508e-02,  1.21890937e+00],\n",
       "       [ 1.73156642e-01,  1.07404901e+00],\n",
       "       [ 3.67578135e-01, -4.90442848e-01],\n",
       "       [-3.12897090e-01, -3.16610419e-01],\n",
       "       [ 9.50842613e-01, -8.38107706e-01],\n",
       "       [ 9.50842613e-01,  1.85629494e+00],\n",
       "       [-2.12648508e-02,  1.24788144e+00],\n",
       "       [-8.96161568e-01,  2.26190394e+00],\n",
       "       [-1.18779381e+00, -1.59138156e+00],\n",
       "       [ 2.11737157e+00, -8.09135634e-01],\n",
       "       [-1.38221530e+00, -1.47549328e+00],\n",
       "       [ 3.67578135e-01,  2.29087602e+00],\n",
       "       [ 7.56421121e-01,  7.55356227e-01],\n",
       "       [-9.93372315e-01, -3.16610419e-01],\n",
       "       [ 7.59458956e-02,  7.55356227e-01],\n",
       "       [-9.93372315e-01,  5.52551726e-01],\n",
       "       [ 2.70367388e-01,  6.00265106e-02],\n",
       "       [ 6.59210374e-01, -1.27268878e+00],\n",
       "       [-5.07318583e-01, -2.68897039e-02],\n",
       "       [-1.77105829e+00,  3.49747226e-01],\n",
       "       [-7.01740076e-01,  1.17970654e-01],\n",
       "       [ 3.67578135e-01,  2.91803083e-01],\n",
       "       [-3.12897090e-01,  6.00265106e-02],\n",
       "       [-5.07318583e-01,  2.29087602e+00],\n",
       "       [ 1.73156642e-01,  3.10544391e-02],\n",
       "       [ 1.24247485e+00,  2.20395980e+00],\n",
       "       [ 7.56421121e-01,  2.62831011e-01],\n",
       "       [-3.12897090e-01,  1.46942725e-01],\n",
       "       [-2.12648508e-02, -5.48386991e-01],\n",
       "       [-2.15686344e-01,  1.46942725e-01],\n",
       "       [-1.18475597e-01,  2.33858940e-01],\n",
       "       [-2.12648508e-02, -2.58666276e-01],\n",
       "       [ 2.11737157e+00,  1.10302108e+00],\n",
       "       [-1.77105829e+00,  3.49747226e-01],\n",
       "       [ 1.82573933e+00,  1.17970654e-01],\n",
       "       [ 3.67578135e-01, -1.42777990e-01],\n",
       "       [-1.18779381e+00,  2.91803083e-01],\n",
       "       [ 7.56421121e-01,  1.36376973e+00],\n",
       "       [-3.12897090e-01, -2.58666276e-01],\n",
       "       [-1.67384754e+00, -5.58617754e-02],\n",
       "       [-9.93372315e-01, -7.51191491e-01],\n",
       "       [ 2.70367388e-01,  4.94607583e-01],\n",
       "       [-1.18475597e-01, -1.06988428e+00],\n",
       "       [-1.09058306e+00,  5.81523798e-01],\n",
       "       [ 7.59458956e-02, -8.09135634e-01],\n",
       "       [-9.93372315e-01,  1.53760216e+00],\n",
       "       [-7.01740076e-01,  1.39274180e+00],\n",
       "       [-1.28500455e+00,  4.94607583e-01],\n",
       "       [-3.12897090e-01,  3.10544391e-02],\n",
       "       [-1.18475597e-01,  2.08236764e-03],\n",
       "       [-3.12897090e-01, -8.96051849e-01],\n",
       "       [ 8.53631867e-01, -1.35960499e+00],\n",
       "       [-3.12897090e-01,  2.23293187e+00],\n",
       "       [ 9.50842613e-01,  1.97218323e+00],\n",
       "       [-1.18779381e+00,  4.65635512e-01],\n",
       "       [-1.28500455e+00,  2.62831011e-01],\n",
       "       [ 1.33968560e+00,  1.97218323e+00],\n",
       "       [ 1.24247485e+00, -1.35960499e+00],\n",
       "       [-3.12897090e-01, -2.87638347e-01],\n",
       "       [-5.07318583e-01,  1.24788144e+00],\n",
       "       [-7.98950822e-01,  1.07404901e+00],\n",
       "       [ 9.50842613e-01, -1.06988428e+00],\n",
       "       [ 2.70367388e-01,  2.91803083e-01],\n",
       "       [ 9.50842613e-01,  7.55356227e-01],\n",
       "       [-7.01740076e-01, -1.50446535e+00],\n",
       "       [-7.01740076e-01,  3.10544391e-02],\n",
       "       [ 4.64788881e-01,  1.71143459e+00],\n",
       "       [ 2.02016082e+00,  1.75914797e-01],\n",
       "       [-1.96547978e+00, -7.51191491e-01],\n",
       "       [-2.15686344e-01,  1.39274180e+00],\n",
       "       [ 3.67578135e-01,  5.81523798e-01],\n",
       "       [ 8.53631867e-01, -1.15680049e+00],\n",
       "       [-1.18779381e+00, -7.80163563e-01],\n",
       "       [ 1.73156642e-01,  2.33858940e-01],\n",
       "       [ 7.56421121e-01, -3.16610419e-01],\n",
       "       [ 2.02016082e+00, -8.09135634e-01],\n",
       "       [ 7.56421121e-01,  1.17970654e-01],\n",
       "       [-3.12897090e-01,  6.10495869e-01],\n",
       "       [-9.93372315e-01, -3.16610419e-01],\n",
       "       [ 1.73156642e-01, -3.74554562e-01],\n",
       "       [ 2.02016082e+00,  2.11704359e+00],\n",
       "       [ 1.82573933e+00, -1.27268878e+00],\n",
       "       [ 1.33968560e+00, -9.25023920e-01],\n",
       "       [ 8.53631867e-01,  1.24788144e+00],\n",
       "       [ 1.43689635e+00,  2.11704359e+00],\n",
       "       [-3.12897090e-01, -1.24371671e+00],\n",
       "       [ 1.92295008e+00,  9.00216584e-01],\n",
       "       [ 6.59210374e-01, -7.22219420e-01],\n",
       "       [-1.47942605e+00,  3.49747226e-01],\n",
       "       [ 7.56421121e-01, -1.35960499e+00],\n",
       "       [ 3.67578135e-01, -1.42777990e-01],\n",
       "       [-9.93372315e-01,  4.07691369e-01],\n",
       "       [-2.12648508e-02, -3.16610419e-01],\n",
       "       [-1.18779381e+00,  4.07691369e-01],\n",
       "       [-8.96161568e-01, -1.21474464e+00],\n",
       "       [-1.18475597e-01,  3.10544391e-02],\n",
       "       [-1.57663679e+00, -4.32498705e-01],\n",
       "       [ 9.50842613e-01, -1.01194013e+00],\n",
       "       [ 1.04805336e+00, -1.21474464e+00],\n",
       "       [-2.12648508e-02, -1.42777990e-01],\n",
       "       [-1.09058306e+00, -1.53343742e+00],\n",
       "       [ 7.56421121e-01, -1.21474464e+00],\n",
       "       [ 9.50842613e-01,  2.05909944e+00],\n",
       "       [-1.18779381e+00, -1.53343742e+00],\n",
       "       [-3.12897090e-01,  7.84328298e-01],\n",
       "       [ 7.59458956e-02, -3.16610419e-01],\n",
       "       [-1.38221530e+00, -1.24371671e+00],\n",
       "       [-6.04529329e-01, -1.50446535e+00],\n",
       "       [ 7.56421121e-01,  5.23579655e-01],\n",
       "       [-3.12897090e-01, -3.45582490e-01],\n",
       "       [ 1.72852858e+00, -2.87638347e-01],\n",
       "       [ 8.53631867e-01, -1.04091221e+00],\n",
       "       [ 1.73156642e-01,  6.00265106e-02],\n",
       "       [-6.04529329e-01,  8.71244512e-01],\n",
       "       [-1.86826903e+00, -1.41754914e+00],\n",
       "       [-1.28500455e+00,  5.81523798e-01],\n",
       "       [-3.12897090e-01,  5.23579655e-01],\n",
       "       [-9.93372315e-01, -1.09885635e+00],\n",
       "       [ 1.14526411e+00, -1.44652121e+00],\n",
       "       [ 1.73156642e-01, -3.16610419e-01],\n",
       "       [ 1.14526411e+00, -7.51191491e-01],\n",
       "       [-3.12897090e-01,  6.00265106e-02],\n",
       "       [ 1.73156642e-01,  2.08807152e+00],\n",
       "       [ 7.56421121e-01, -1.09885635e+00],\n",
       "       [ 7.59458956e-02,  3.10544391e-02],\n",
       "       [-1.77105829e+00,  1.17970654e-01],\n",
       "       [-8.96161568e-01,  1.46942725e-01],\n",
       "       [-7.01740076e-01,  1.75914797e-01],\n",
       "       [ 8.53631867e-01, -1.30166085e+00],\n",
       "       [ 1.73156642e-01, -2.58666276e-01],\n",
       "       [-4.10107836e-01,  1.21890937e+00],\n",
       "       [-2.12648508e-02,  2.91803083e-01],\n",
       "       [ 3.67578135e-01,  1.46942725e-01],\n",
       "       [ 8.53631867e-01, -6.64275277e-01],\n",
       "       [ 7.59458956e-02,  1.46942725e-01],\n",
       "       [-1.86826903e+00, -1.30166085e+00],\n",
       "       [-1.18475597e-01,  2.91803083e-01],\n",
       "       [-2.15686344e-01, -2.87638347e-01],\n",
       "       [ 2.70367388e-01, -5.19414919e-01],\n",
       "       [-2.15686344e-01,  1.59554630e+00],\n",
       "       [ 9.50842613e-01, -1.18577256e+00],\n",
       "       [-2.15686344e-01,  1.62451837e+00],\n",
       "       [ 1.24247485e+00,  1.85629494e+00],\n",
       "       [-1.09058306e+00, -3.74554562e-01],\n",
       "       [-2.12648508e-02,  3.10544391e-02],\n",
       "       [ 7.59458956e-02, -2.58666276e-01],\n",
       "       [-1.57663679e+00, -1.24371671e+00],\n",
       "       [-5.07318583e-01, -2.87638347e-01],\n",
       "       [ 9.50842613e-01,  1.17970654e-01],\n",
       "       [ 1.92295008e+00, -1.35960499e+00],\n",
       "       [ 1.43689635e+00,  6.00265106e-02],\n",
       "       [-6.04529329e-01,  1.36376973e+00],\n",
       "       [ 1.53410709e+00,  2.08236764e-03],\n",
       "       [-7.98950822e-01,  2.91803083e-01],\n",
       "       [ 1.92295008e+00,  7.26384155e-01],\n",
       "       [-1.18779381e+00, -5.19414919e-01],\n",
       "       [ 6.59210374e-01,  2.62831011e-01],\n",
       "       [-1.38221530e+00, -4.32498705e-01],\n",
       "       [ 1.73156642e-01,  1.46942725e-01],\n",
       "       [-5.07318583e-01, -1.21474464e+00],\n",
       "       [ 5.61999628e-01,  2.00115530e+00],\n",
       "       [-1.57663679e+00, -1.50446535e+00],\n",
       "       [-5.07318583e-01, -5.48386991e-01],\n",
       "       [ 4.64788881e-01,  1.82732287e+00],\n",
       "       [-1.38221530e+00, -1.09885635e+00],\n",
       "       [ 7.56421121e-01, -1.38857706e+00],\n",
       "       [-3.12897090e-01, -4.32498705e-01],\n",
       "       [ 1.53410709e+00,  9.87132798e-01],\n",
       "       [ 9.50842613e-01,  1.42171387e+00],\n",
       "       [-3.12897090e-01, -4.90442848e-01],\n",
       "       [-1.18475597e-01,  2.14601566e+00],\n",
       "       [-1.47942605e+00, -1.13805918e-01],\n",
       "       [-1.18475597e-01,  1.94321116e+00],\n",
       "       [-7.01740076e-01, -3.45582490e-01],\n",
       "       [-5.07318583e-01, -8.38107706e-01],\n",
       "       [ 6.59210374e-01, -1.38857706e+00],\n",
       "       [-7.98950822e-01, -1.59138156e+00],\n",
       "       [-1.86826903e+00, -1.47549328e+00],\n",
       "       [ 1.04805336e+00,  1.17970654e-01],\n",
       "       [ 7.59458956e-02,  1.50863009e+00],\n",
       "       [-3.12897090e-01,  8.89985821e-02],\n",
       "       [ 7.59458956e-02,  3.10544391e-02],\n",
       "       [-1.38221530e+00, -1.35960499e+00],\n",
       "       [ 2.70367388e-01,  6.00265106e-02],\n",
       "       [-8.96161568e-01,  3.78719297e-01],\n",
       "       [ 1.53410709e+00, -1.27268878e+00],\n",
       "       [-3.12897090e-01, -7.51191491e-01],\n",
       "       [-1.18475597e-01,  1.46942725e-01],\n",
       "       [-8.96161568e-01, -6.64275277e-01],\n",
       "       [-7.01740076e-01, -5.58617754e-02],\n",
       "       [ 3.67578135e-01, -4.61470776e-01],\n",
       "       [-7.98950822e-01,  1.88526701e+00],\n",
       "       [ 1.33968560e+00,  1.27685351e+00],\n",
       "       [ 1.14526411e+00, -9.82968063e-01],\n",
       "       [ 1.72852858e+00,  1.82732287e+00],\n",
       "       [-8.96161568e-01, -2.58666276e-01],\n",
       "       [-7.98950822e-01,  5.52551726e-01],\n",
       "       [-1.18779381e+00, -1.56240949e+00],\n",
       "       [-5.07318583e-01, -1.12782842e+00],\n",
       "       [ 2.70367388e-01,  6.00265106e-02],\n",
       "       [-2.15686344e-01, -1.06988428e+00],\n",
       "       [ 1.63131784e+00,  1.59554630e+00],\n",
       "       [ 9.50842613e-01,  1.76937873e+00],\n",
       "       [ 2.70367388e-01,  3.10544391e-02],\n",
       "       [-7.98950822e-01, -2.29694204e-01],\n",
       "       [-1.18475597e-01,  6.00265106e-02],\n",
       "       [ 2.70367388e-01, -2.00722133e-01],\n",
       "       [ 1.92295008e+00, -6.64275277e-01],\n",
       "       [-7.98950822e-01,  1.33479766e+00],\n",
       "       [-1.77105829e+00, -6.06331134e-01],\n",
       "       [-1.18475597e-01,  1.17970654e-01],\n",
       "       [ 2.70367388e-01, -3.16610419e-01],\n",
       "       [ 1.04805336e+00,  5.52551726e-01],\n",
       "       [-9.93372315e-01,  2.62831011e-01],\n",
       "       [ 1.43689635e+00,  3.49747226e-01],\n",
       "       [ 1.73156642e-01, -3.74554562e-01],\n",
       "       [ 2.11737157e+00, -1.04091221e+00],\n",
       "       [-3.12897090e-01,  1.10302108e+00],\n",
       "       [-1.67384754e+00,  6.00265106e-02],\n",
       "       [-2.12648508e-02,  3.10544391e-02],\n",
       "       [ 7.59458956e-02,  1.04507694e+00],\n",
       "       [-1.18475597e-01, -3.74554562e-01],\n",
       "       [-1.18779381e+00,  6.00265106e-02],\n",
       "       [-3.12897090e-01, -1.35960499e+00],\n",
       "       [ 1.53410709e+00,  1.10302108e+00],\n",
       "       [-7.98950822e-01, -1.53343742e+00],\n",
       "       [ 7.59458956e-02,  1.85629494e+00],\n",
       "       [-8.96161568e-01, -7.80163563e-01],\n",
       "       [-5.07318583e-01, -7.80163563e-01],\n",
       "       [-3.12897090e-01, -9.25023920e-01],\n",
       "       [ 2.70367388e-01, -7.22219420e-01],\n",
       "       [ 2.70367388e-01,  6.00265106e-02],\n",
       "       [ 7.59458956e-02,  1.85629494e+00],\n",
       "       [-1.09058306e+00,  1.94321116e+00],\n",
       "       [-1.67384754e+00, -1.56240949e+00],\n",
       "       [-1.18779381e+00, -1.09885635e+00],\n",
       "       [-7.01740076e-01, -1.13805918e-01],\n",
       "       [ 7.59458956e-02,  8.89985821e-02],\n",
       "       [ 2.70367388e-01,  2.62831011e-01],\n",
       "       [ 8.53631867e-01, -5.77359062e-01],\n",
       "       [ 2.70367388e-01, -1.15680049e+00],\n",
       "       [-1.18475597e-01,  6.68440012e-01],\n",
       "       [ 2.11737157e+00, -6.93247348e-01],\n",
       "       [-1.28500455e+00, -1.38857706e+00],\n",
       "       [-9.93372315e-01, -9.53995992e-01],\n",
       "       [-2.12648508e-02, -4.32498705e-01],\n",
       "       [-2.15686344e-01, -4.61470776e-01],\n",
       "       [-1.77105829e+00, -9.82968063e-01],\n",
       "       [ 1.72852858e+00,  9.87132798e-01],\n",
       "       [ 1.73156642e-01, -3.74554562e-01],\n",
       "       [ 3.67578135e-01,  1.10302108e+00],\n",
       "       [-1.77105829e+00, -1.35960499e+00],\n",
       "       [ 1.73156642e-01, -1.42777990e-01],\n",
       "       [ 8.53631867e-01, -1.44652121e+00],\n",
       "       [-1.96547978e+00,  4.65635512e-01],\n",
       "       [-3.12897090e-01,  2.62831011e-01],\n",
       "       [ 1.82573933e+00, -1.06988428e+00],\n",
       "       [-4.10107836e-01,  6.00265106e-02],\n",
       "       [ 1.04805336e+00, -8.96051849e-01],\n",
       "       [-1.09058306e+00, -1.12782842e+00],\n",
       "       [-1.86826903e+00,  2.08236764e-03],\n",
       "       [ 7.59458956e-02,  2.62831011e-01],\n",
       "       [-1.18779381e+00,  3.20775154e-01],\n",
       "       [-1.28500455e+00,  2.91803083e-01],\n",
       "       [-9.93372315e-01,  4.36663440e-01],\n",
       "       [ 1.63131784e+00, -8.96051849e-01],\n",
       "       [ 1.14526411e+00,  5.23579655e-01],\n",
       "       [ 1.04805336e+00,  5.23579655e-01],\n",
       "       [ 1.33968560e+00,  2.31984809e+00],\n",
       "       [-3.12897090e-01, -1.42777990e-01],\n",
       "       [ 3.67578135e-01, -4.61470776e-01],\n",
       "       [-4.10107836e-01, -7.80163563e-01],\n",
       "       [-1.18475597e-01, -5.19414919e-01],\n",
       "       [ 9.50842613e-01, -1.15680049e+00],\n",
       "       [-8.96161568e-01, -7.80163563e-01],\n",
       "       [-2.15686344e-01, -5.19414919e-01],\n",
       "       [-1.09058306e+00, -4.61470776e-01],\n",
       "       [-1.18779381e+00,  1.39274180e+00]])"
      ]
     },
     "execution_count": 14,
     "metadata": {},
     "output_type": "execute_result"
    }
   ],
   "source": [
    "X_train"
   ]
  },
  {
   "cell_type": "code",
   "execution_count": 15,
   "metadata": {},
   "outputs": [
    {
     "data": {
      "text/plain": [
       "array([1, 0, 0, 0, 1, 1, 0, 1, 1, 0, 0, 1, 0, 0, 0, 1, 0, 1, 1, 1, 0, 1,\n",
       "       0, 1, 1, 1, 0, 0, 0, 0, 0, 0, 1, 1, 1, 0, 1, 0, 0, 1, 0, 1, 0, 1,\n",
       "       0, 0, 1, 1, 1, 1, 0, 1, 0, 1, 0, 0, 1, 0, 0, 1, 0, 0, 0, 0, 0, 1,\n",
       "       1, 1, 1, 0, 0, 0, 1, 0, 1, 0, 1, 0, 0, 1, 0, 0, 0, 1, 0, 0, 0, 1,\n",
       "       1, 0, 0, 1, 0, 1, 1, 1, 0, 0, 1, 1, 0, 0, 1, 1, 0, 1, 0, 0, 1, 1,\n",
       "       0, 1, 1, 1, 0, 0, 0, 0, 0, 1, 0, 0, 1, 1, 1, 1, 1, 0, 1, 1, 0, 1,\n",
       "       0, 0, 0, 0, 0, 0, 0, 1, 1, 0, 0, 1, 0, 0, 1, 0, 0, 0, 1, 0, 1, 1,\n",
       "       0, 1, 0, 0, 0, 0, 1, 0, 0, 0, 1, 1, 0, 0, 0, 0, 1, 0, 1, 0, 0, 0,\n",
       "       1, 0, 0, 0, 0, 1, 1, 1, 0, 0, 0, 0, 0, 0, 1, 1, 1, 1, 1, 0, 1, 0,\n",
       "       0, 0, 0, 0, 1, 0, 0, 0, 0, 0, 0, 1, 1, 0, 1, 0, 1, 0, 0, 1, 0, 0,\n",
       "       0, 1, 0, 0, 0, 0, 0, 1, 0, 0, 0, 0, 0, 1, 0, 1, 1, 0, 0, 0, 0, 0,\n",
       "       0, 1, 1, 0, 0, 0, 0, 1, 0, 0, 0, 0, 1, 0, 1, 0, 1, 0, 0, 0, 1, 0,\n",
       "       0, 0, 1, 0, 1, 0, 0, 0, 0, 0, 1, 1, 0, 0, 0, 0, 0, 1, 0, 1, 1, 0,\n",
       "       0, 0, 0, 0, 1, 0, 1, 0, 0, 1, 0, 0, 1, 0, 1, 0, 0, 0, 0, 0, 0, 1,\n",
       "       1, 1, 1, 0, 0, 0, 0, 1, 0, 0, 0, 0], dtype=int64)"
      ]
     },
     "execution_count": 15,
     "metadata": {},
     "output_type": "execute_result"
    }
   ],
   "source": [
    "y_train"
   ]
  },
  {
   "cell_type": "code",
   "execution_count": 16,
   "metadata": {},
   "outputs": [
    {
     "data": {
      "text/html": [
       "<style>#sk-container-id-1 {color: black;background-color: white;}#sk-container-id-1 pre{padding: 0;}#sk-container-id-1 div.sk-toggleable {background-color: white;}#sk-container-id-1 label.sk-toggleable__label {cursor: pointer;display: block;width: 100%;margin-bottom: 0;padding: 0.3em;box-sizing: border-box;text-align: center;}#sk-container-id-1 label.sk-toggleable__label-arrow:before {content: \"▸\";float: left;margin-right: 0.25em;color: #696969;}#sk-container-id-1 label.sk-toggleable__label-arrow:hover:before {color: black;}#sk-container-id-1 div.sk-estimator:hover label.sk-toggleable__label-arrow:before {color: black;}#sk-container-id-1 div.sk-toggleable__content {max-height: 0;max-width: 0;overflow: hidden;text-align: left;background-color: #f0f8ff;}#sk-container-id-1 div.sk-toggleable__content pre {margin: 0.2em;color: black;border-radius: 0.25em;background-color: #f0f8ff;}#sk-container-id-1 input.sk-toggleable__control:checked~div.sk-toggleable__content {max-height: 200px;max-width: 100%;overflow: auto;}#sk-container-id-1 input.sk-toggleable__control:checked~label.sk-toggleable__label-arrow:before {content: \"▾\";}#sk-container-id-1 div.sk-estimator input.sk-toggleable__control:checked~label.sk-toggleable__label {background-color: #d4ebff;}#sk-container-id-1 div.sk-label input.sk-toggleable__control:checked~label.sk-toggleable__label {background-color: #d4ebff;}#sk-container-id-1 input.sk-hidden--visually {border: 0;clip: rect(1px 1px 1px 1px);clip: rect(1px, 1px, 1px, 1px);height: 1px;margin: -1px;overflow: hidden;padding: 0;position: absolute;width: 1px;}#sk-container-id-1 div.sk-estimator {font-family: monospace;background-color: #f0f8ff;border: 1px dotted black;border-radius: 0.25em;box-sizing: border-box;margin-bottom: 0.5em;}#sk-container-id-1 div.sk-estimator:hover {background-color: #d4ebff;}#sk-container-id-1 div.sk-parallel-item::after {content: \"\";width: 100%;border-bottom: 1px solid gray;flex-grow: 1;}#sk-container-id-1 div.sk-label:hover label.sk-toggleable__label {background-color: #d4ebff;}#sk-container-id-1 div.sk-serial::before {content: \"\";position: absolute;border-left: 1px solid gray;box-sizing: border-box;top: 0;bottom: 0;left: 50%;z-index: 0;}#sk-container-id-1 div.sk-serial {display: flex;flex-direction: column;align-items: center;background-color: white;padding-right: 0.2em;padding-left: 0.2em;position: relative;}#sk-container-id-1 div.sk-item {position: relative;z-index: 1;}#sk-container-id-1 div.sk-parallel {display: flex;align-items: stretch;justify-content: center;background-color: white;position: relative;}#sk-container-id-1 div.sk-item::before, #sk-container-id-1 div.sk-parallel-item::before {content: \"\";position: absolute;border-left: 1px solid gray;box-sizing: border-box;top: 0;bottom: 0;left: 50%;z-index: -1;}#sk-container-id-1 div.sk-parallel-item {display: flex;flex-direction: column;z-index: 1;position: relative;background-color: white;}#sk-container-id-1 div.sk-parallel-item:first-child::after {align-self: flex-end;width: 50%;}#sk-container-id-1 div.sk-parallel-item:last-child::after {align-self: flex-start;width: 50%;}#sk-container-id-1 div.sk-parallel-item:only-child::after {width: 0;}#sk-container-id-1 div.sk-dashed-wrapped {border: 1px dashed gray;margin: 0 0.4em 0.5em 0.4em;box-sizing: border-box;padding-bottom: 0.4em;background-color: white;}#sk-container-id-1 div.sk-label label {font-family: monospace;font-weight: bold;display: inline-block;line-height: 1.2em;}#sk-container-id-1 div.sk-label-container {text-align: center;}#sk-container-id-1 div.sk-container {/* jupyter's `normalize.less` sets `[hidden] { display: none; }` but bootstrap.min.css set `[hidden] { display: none !important; }` so we also need the `!important` here to be able to override the default hidden behavior on the sphinx rendered scikit-learn.org. See: https://github.com/scikit-learn/scikit-learn/issues/21755 */display: inline-block !important;position: relative;}#sk-container-id-1 div.sk-text-repr-fallback {display: none;}</style><div id=\"sk-container-id-1\" class=\"sk-top-container\"><div class=\"sk-text-repr-fallback\"><pre>SVC(random_state=0)</pre><b>In a Jupyter environment, please rerun this cell to show the HTML representation or trust the notebook. <br />On GitHub, the HTML representation is unable to render, please try loading this page with nbviewer.org.</b></div><div class=\"sk-container\" hidden><div class=\"sk-item\"><div class=\"sk-estimator sk-toggleable\"><input class=\"sk-toggleable__control sk-hidden--visually\" id=\"sk-estimator-id-1\" type=\"checkbox\" checked><label for=\"sk-estimator-id-1\" class=\"sk-toggleable__label sk-toggleable__label-arrow\">SVC</label><div class=\"sk-toggleable__content\"><pre>SVC(random_state=0)</pre></div></div></div></div></div>"
      ],
      "text/plain": [
       "SVC(random_state=0)"
      ]
     },
     "execution_count": 16,
     "metadata": {},
     "output_type": "execute_result"
    }
   ],
   "source": [
    "from sklearn.svm import SVC\n",
    "classifier = SVC(kernel  = 'rbf' ,  random_state = 0)\n",
    "classifier.fit(X_train , y_train)"
   ]
  },
  {
   "cell_type": "code",
   "execution_count": 18,
   "metadata": {},
   "outputs": [
    {
     "name": "stdout",
     "output_type": "stream",
     "text": [
      "[0]\n"
     ]
    }
   ],
   "source": [
    "print(classifier.predict(sc.transform([[30 , 85000]])))"
   ]
  },
  {
   "cell_type": "code",
   "execution_count": 19,
   "metadata": {},
   "outputs": [],
   "source": [
    "y_pred = classifier.predict(X_test)"
   ]
  },
  {
   "cell_type": "code",
   "execution_count": 20,
   "metadata": {},
   "outputs": [],
   "source": [
    "y_pred = y_pred.reshape(len(y_pred) , 1)\n",
    "y_test = y_pred.reshape(len(y_test) , 1) "
   ]
  },
  {
   "cell_type": "code",
   "execution_count": 21,
   "metadata": {},
   "outputs": [
    {
     "name": "stdout",
     "output_type": "stream",
     "text": [
      "[[1 1]\n",
      " [1 1]\n",
      " [1 1]\n",
      " [1 1]\n",
      " [1 1]\n",
      " [1 1]\n",
      " [1 1]\n",
      " [1 1]\n",
      " [1 1]\n",
      " [1 1]\n",
      " [1 1]\n",
      " [1 1]\n",
      " [1 1]\n",
      " [1 1]\n",
      " [1 1]\n",
      " [1 1]\n",
      " [1 1]\n",
      " [1 1]\n",
      " [1 1]\n",
      " [1 1]\n",
      " [1 1]\n",
      " [1 1]\n",
      " [1 1]\n",
      " [1 1]\n",
      " [1 1]\n",
      " [1 1]\n",
      " [1 1]\n",
      " [1 1]\n",
      " [1 1]\n",
      " [1 1]\n",
      " [1 1]\n",
      " [1 1]\n",
      " [1 1]\n",
      " [1 1]\n",
      " [1 1]\n",
      " [1 1]\n",
      " [1 1]\n",
      " [1 1]\n",
      " [1 1]\n",
      " [1 1]\n",
      " [1 1]\n",
      " [1 1]\n",
      " [1 1]\n",
      " [1 1]\n",
      " [1 1]\n",
      " [1 1]\n",
      " [1 1]\n",
      " [1 1]\n",
      " [1 1]\n",
      " [1 1]\n",
      " [1 1]\n",
      " [1 1]\n",
      " [1 1]\n",
      " [1 1]\n",
      " [1 1]\n",
      " [1 1]\n",
      " [1 1]\n",
      " [1 1]\n",
      " [1 1]\n",
      " [1 1]\n",
      " [1 1]\n",
      " [1 1]\n",
      " [1 1]\n",
      " [1 1]\n",
      " [1 1]\n",
      " [1 1]\n",
      " [1 1]\n",
      " [1 1]\n",
      " [1 1]\n",
      " [1 1]\n",
      " [1 1]\n",
      " [1 1]\n",
      " [1 1]\n",
      " [1 1]\n",
      " [1 1]\n",
      " [1 1]\n",
      " [1 1]\n",
      " [1 1]\n",
      " [1 1]\n",
      " [1 1]]\n"
     ]
    }
   ],
   "source": [
    "print(np.concatenate((y_pred , y_test) , axis = 1))"
   ]
  },
  {
   "cell_type": "code",
   "execution_count": 22,
   "metadata": {},
   "outputs": [
    {
     "name": "stdout",
     "output_type": "stream",
     "text": [
      "[[80]] 1.0\n"
     ]
    }
   ],
   "source": [
    "from sklearn.metrics import confusion_matrix  , accuracy_score\n",
    "cm = confusion_matrix(y_pred , y_test)\n",
    "acc = accuracy_score(y_pred , y_test)\n",
    "print(cm , acc)"
   ]
  },
  {
   "cell_type": "code",
   "execution_count": 23,
   "metadata": {},
   "outputs": [
    {
     "name": "stderr",
     "output_type": "stream",
     "text": [
      "C:\\Users\\sana\\AppData\\Local\\Temp\\ipykernel_9128\\2809096271.py:11: UserWarning: *c* argument looks like a single numeric RGB or RGBA sequence, which should be avoided as value-mapping will have precedence in case its length matches with *x* & *y*.  Please use the *color* keyword-argument or provide a 2D array with a single row if you intend to specify the same RGB or RGBA value for all points.\n",
      "  plt.scatter(X_set[y_set ==j , 0 ] , X_set[y_set ==j , 1] , c = ListedColormap(('red' , 'green')) (i), label = j)\n"
     ]
    },
    {
     "data": {
      "image/png": "[encoded data removed]",
      "text/plain": [
       "<Figure size 640x480 with 1 Axes>"
      ]
     },
     "metadata": {},
     "output_type": "display_data"
    },
    {
     "data": {
      "image/png": "[encoded data removed]",
      "text/plain": [
       "<Figure size 640x480 with 1 Axes>"
      ]
     },
     "metadata": {},
     "output_type": "display_data"
    }
   ],
   "source": [
    "from matplotlib.colors import ListedColormap\n",
    "X_set , y_set = sc.inverse_transform(X_train) , y_train \n",
    "x1 , x2 = np.meshgrid(np.arange(start = X_set[: , 0].min() - 10, stop = X_set[: , 0].max() + 10 , step = 1), \n",
    "                      np.arange(start = X_set[: , 0].min() - 1000, stop = X_set[: , 0].max() + 1000 , step = 1))\n",
    "\n",
    "plt.contourf(x1 , x2 , classifier.predict(sc.transform(np.array([x1.ravel() , x2.ravel()]).T)).reshape(x1.shape),\n",
    "             alpha = 0.75 , cmap = ListedColormap(('red' , 'green')))\n",
    "plt.xlim(x1.min() , x1.max())\n",
    "plt.ylim(x2.min() , x2.max())\n",
    "for i , j in enumerate(np.unique(y_set)):\n",
    "      plt.scatter(X_set[y_set ==j , 0 ] , X_set[y_set ==j , 1] , c = ListedColormap(('red' , 'green')) (i), label = j) \n",
    "      plt.title('SVM -Linear(Training set)')\n",
    "      plt.xlabel('Age')\n",
    "      plt.ylabel('Estimated Salary')\n",
    "      plt.show()"
   ]
  },
  {
   "cell_type": "code",
   "execution_count": 24,
   "metadata": {},
   "outputs": [
    {
     "ename": "IndexError",
     "evalue": "too many indices for array: array is 2-dimensional, but 3 were indexed",
     "output_type": "error",
     "traceback": [
      "\u001b[1;31m---------------------------------------------------------------------------\u001b[0m",
      "\u001b[1;31mIndexError\u001b[0m                                Traceback (most recent call last)",
      "Cell \u001b[1;32mIn[24], line 11\u001b[0m\n\u001b[0;32m      9\u001b[0m plt\u001b[39m.\u001b[39mylim(x2\u001b[39m.\u001b[39mmin() , x2\u001b[39m.\u001b[39mmax())\n\u001b[0;32m     10\u001b[0m \u001b[39mfor\u001b[39;00m i , j \u001b[39min\u001b[39;00m \u001b[39menumerate\u001b[39m(np\u001b[39m.\u001b[39munique(y_set)):\n\u001b[1;32m---> 11\u001b[0m       plt\u001b[39m.\u001b[39mscatter(X_set[y_set \u001b[39m==\u001b[39;49mj , \u001b[39m0\u001b[39;49m ] , X_set[y_set \u001b[39m==\u001b[39mj , \u001b[39m1\u001b[39m] , c \u001b[39m=\u001b[39m ListedColormap((\u001b[39m'\u001b[39m\u001b[39mred\u001b[39m\u001b[39m'\u001b[39m , \u001b[39m'\u001b[39m\u001b[39mgreen\u001b[39m\u001b[39m'\u001b[39m)) (i), label \u001b[39m=\u001b[39m j) \n\u001b[0;32m     12\u001b[0m       plt\u001b[39m.\u001b[39mtitle(\u001b[39m'\u001b[39m\u001b[39mSVM -Linear(Training set)\u001b[39m\u001b[39m'\u001b[39m)\n\u001b[0;32m     13\u001b[0m       plt\u001b[39m.\u001b[39mxlabel(\u001b[39m'\u001b[39m\u001b[39mAge\u001b[39m\u001b[39m'\u001b[39m)\n",
      "\u001b[1;31mIndexError\u001b[0m: too many indices for array: array is 2-dimensional, but 3 were indexed"
     ]
    },
    {
     "data": {
      "image/png": "[encoded data removed]",
      "text/plain": [
       "<Figure size 640x480 with 1 Axes>"
      ]
     },
     "metadata": {},
     "output_type": "display_data"
    }
   ],
   "source": [
    "from matplotlib.colors import ListedColormap\n",
    "X_set , y_set = sc.inverse_transform(X_test) , y_test \n",
    "x1 , x2 = np.meshgrid(np.arange(start = X_set[: , 0].min() - 10, stop = X_set[: , 0].max() + 10 , step = 1), \n",
    "                      np.arange(start = X_set[: , 0].min() - 1000, stop = X_set[: , 0].max() + 1000 , step = 1))\n",
    "\n",
    "plt.contourf(x1 , x2 , classifier.predict(sc.transform(np.array([x1.ravel() , x2.ravel()]).T)).reshape(x1.shape),\n",
    "             alpha = 0.75 , cmap = ListedColormap(('red' , 'green')))\n",
    "plt.xlim(x1.min() , x1.max())\n",
    "plt.ylim(x2.min() , x2.max())\n",
    "for i , j in enumerate(np.unique(y_set)):\n",
    "      plt.scatter(X_set[y_set ==j , 0 ] , X_set[y_set ==j , 1] , c = ListedColormap(('red' , 'green')) (i), label = j) \n",
    "      plt.title('SVM -Linear(Training set)')\n",
    "      plt.xlabel('Age')\n",
    "      plt.ylabel('Estimated Salary')\n",
    "      plt.show()"
   ]
  }
 ],
 "metadata": {
  "kernelspec": {
   "display_name": "Python 3",
   "language": "python",
   "name": "python3"
  },
  "language_info": {
   "codemirror_mode": {
    "name": "ipython",
    "version": 3
   },
   "file_extension": ".py",
   "mimetype": "text/x-python",
   "name": "python",
   "nbconvert_exporter": "python",
   "pygments_lexer": "ipython3",
   "version": "3.11.2"
  },
  "orig_nbformat": 4
 },
 "nbformat": 4,
 "nbformat_minor": 2
}
